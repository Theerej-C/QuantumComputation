{
 "cells": [
  {
   "cell_type": "code",
   "execution_count": 1,
   "metadata": {},
   "outputs": [],
   "source": [
    "import matplotlib.pyplot as plt\n",
    "import numpy as np\n",
    "from qiskit import Aer,QuantumCircuit,transpile,assemble,IBMQ\n",
    "from qiskit.visualization import plot_histogram"
   ]
  },
  {
   "cell_type": "code",
   "execution_count": 2,
   "metadata": {},
   "outputs": [],
   "source": [
    "n = 4\n",
    "sec = '1110'\n"
   ]
  },
  {
   "cell_type": "code",
   "execution_count": 3,
   "metadata": {},
   "outputs": [
    {
     "data": {
      "text/html": [
       "<pre style=\"word-wrap: normal;white-space: pre;background: #fff0;line-height: 1.1;font-family: &quot;Courier New&quot;,Courier,monospace\">     ┌───┐      ░ ┌───┐           ░ ┌───┐┌─┐         \n",
       "q_0: ┤ H ├──────░─┤ I ├───────────░─┤ H ├┤M├─────────\n",
       "     ├───┤      ░ └───┘           ░ ├───┤└╥┘┌─┐      \n",
       "q_1: ┤ H ├──────░───■─────────────░─┤ H ├─╫─┤M├──────\n",
       "     ├───┤      ░   │             ░ ├───┤ ║ └╥┘┌─┐   \n",
       "q_2: ┤ H ├──────░───┼────■────────░─┤ H ├─╫──╫─┤M├───\n",
       "     ├───┤      ░   │    │        ░ ├───┤ ║  ║ └╥┘┌─┐\n",
       "q_3: ┤ H ├──────░───┼────┼────■───░─┤ H ├─╫──╫──╫─┤M├\n",
       "     ├───┤┌───┐ ░ ┌─┴─┐┌─┴─┐┌─┴─┐ ░ └───┘ ║  ║  ║ └╥┘\n",
       "q_4: ┤ H ├┤ Z ├─░─┤ X ├┤ X ├┤ X ├─░───────╫──╫──╫──╫─\n",
       "     └───┘└───┘ ░ └───┘└───┘└───┘ ░       ║  ║  ║  ║ \n",
       "c: 4/═════════════════════════════════════╩══╩══╩══╩═\n",
       "                                          0  1  2  3 </pre>"
      ],
      "text/plain": [
       "     ┌───┐      ░ ┌───┐           ░ ┌───┐┌─┐         \n",
       "q_0: ┤ H ├──────░─┤ I ├───────────░─┤ H ├┤M├─────────\n",
       "     ├───┤      ░ └───┘           ░ ├───┤└╥┘┌─┐      \n",
       "q_1: ┤ H ├──────░───■─────────────░─┤ H ├─╫─┤M├──────\n",
       "     ├───┤      ░   │             ░ ├───┤ ║ └╥┘┌─┐   \n",
       "q_2: ┤ H ├──────░───┼────■────────░─┤ H ├─╫──╫─┤M├───\n",
       "     ├───┤      ░   │    │        ░ ├───┤ ║  ║ └╥┘┌─┐\n",
       "q_3: ┤ H ├──────░───┼────┼────■───░─┤ H ├─╫──╫──╫─┤M├\n",
       "     ├───┤┌───┐ ░ ┌─┴─┐┌─┴─┐┌─┴─┐ ░ └───┘ ║  ║  ║ └╥┘\n",
       "q_4: ┤ H ├┤ Z ├─░─┤ X ├┤ X ├┤ X ├─░───────╫──╫──╫──╫─\n",
       "     └───┘└───┘ ░ └───┘└───┘└───┘ ░       ║  ║  ║  ║ \n",
       "c: 4/═════════════════════════════════════╩══╩══╩══╩═\n",
       "                                          0  1  2  3 "
      ]
     },
     "execution_count": 3,
     "metadata": {},
     "output_type": "execute_result"
    }
   ],
   "source": [
    "ber_vaz = QuantumCircuit(n+1, n)\n",
    "ber_vaz.h(n)\n",
    "ber_vaz.z(n)\n",
    "\n",
    "\n",
    "for q in range(n):\n",
    "    ber_vaz.h(q)\n",
    "\n",
    "ber_vaz.barrier()\n",
    "\n",
    "sec = sec[::-1]\n",
    "for q in range(n):\n",
    "    if sec[q]=='0':\n",
    "        ber_vaz.i(q)\n",
    "    else:\n",
    "        ber_vaz.cx(q,n)\n",
    "ber_vaz.barrier()\n",
    "for q in range(n):\n",
    "    ber_vaz.h(q)\n",
    "for q in range(n):\n",
    "    ber_vaz.measure(q,q)\n",
    "\n",
    "ber_vaz.draw()"
   ]
  },
  {
   "cell_type": "code",
   "execution_count": 4,
   "metadata": {},
   "outputs": [
    {
     "data": {
      "image/png": "[encoded data removed]",
      "text/plain": [
       "<Figure size 700x500 with 1 Axes>"
      ]
     },
     "execution_count": 4,
     "metadata": {},
     "output_type": "execute_result"
    }
   ],
   "source": [
    "aer_sim = Aer.get_backend('aer_simulator')\n",
    "qoj = assemble(ber_vaz)\n",
    "results = aer_sim.run(qoj).result()\n",
    "result = results.get_counts()\n",
    "plot_histogram(result)"
   ]
  }
 ],
 "metadata": {
  "kernelspec": {
   "display_name": "Python 3",
   "language": "python",
   "name": "python3"
  },
  "language_info": {
   "codemirror_mode": {
    "name": "ipython",
    "version": 3
   },
   "file_extension": ".py",
   "mimetype": "text/x-python",
   "name": "python",
   "nbconvert_exporter": "python",
   "pygments_lexer": "ipython3",
   "version": "3.10.5 (tags/v3.10.5:f377153, Jun  6 2022, 16:14:13) [MSC v.1929 64 bit (AMD64)]"
  },
  "orig_nbformat": 4,
  "vscode": {
   "interpreter": {
    "hash": "58837b1b657ea91009af8409fc244ae3b5ccf93ea980d6fb6b80adc5f697f4cc"
   }
  }
 },
 "nbformat": 4,
 "nbformat_minor": 2
}
